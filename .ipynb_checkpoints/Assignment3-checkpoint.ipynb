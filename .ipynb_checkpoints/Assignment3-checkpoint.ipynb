{
 "cells": [
  {
   "cell_type": "code",
   "execution_count": null,
   "metadata": {},
   "outputs": [],
   "source": [
    "import pandas as pd\n",
    "from glob import glob\n",
    "def getDataFromDay(day):\n",
    "    dataframes = []\n",
    "    for f in glob(day+\"/*.json\"):\n",
    "        dataframes.append(pd.read_json(f,lines=True))\n",
    "    dataDay = pd.concat(dataframes)\n",
    "    return(dataDay)\n",
    "def extractUserData(data):\n",
    "    users = set()\n",
    "    userData = {}\n",
    "    for key in data['user'][0].keys():\n",
    "        userData[key] = []\n",
    "    for ind,val in data.iterrows():\n",
    "        if val['user']['username'] not in users:\n",
    "            users.add(val['user']['username'])\n",
    "            userData.append(val['user'])\n",
    "    userFrame = pd.DataFrame()"
   ]
  }
 ],
 "metadata": {
  "kernelspec": {
   "display_name": "Python 3",
   "language": "python",
   "name": "python3"
  },
  "language_info": {
   "codemirror_mode": {
    "name": "ipython",
    "version": 3
   },
   "file_extension": ".py",
   "mimetype": "text/x-python",
   "name": "python",
   "nbconvert_exporter": "python",
   "pygments_lexer": "ipython3",
   "version": "3.6.0"
  }
 },
 "nbformat": 4,
 "nbformat_minor": 2
}
