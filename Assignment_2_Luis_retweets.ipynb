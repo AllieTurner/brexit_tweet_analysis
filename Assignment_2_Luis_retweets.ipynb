{
 "cells": [
  {
   "cell_type": "markdown",
   "metadata": {},
   "source": [
    "# Assignment 2"
   ]
  },
  {
   "cell_type": "markdown",
   "metadata": {},
   "source": [
    "This data set comes from the Neuropolitics Research Lab, at the university, and provides the Tweets that were posted in relation to Brexit during five days. Those days were the 21-23 June 2016 (referendum), and the 22-23 September 2107 (Florence Speech). With the analysis of the data, the team at the NR Lab hopes to understand how influential Twitter was in the positions that people took in regards to Brexit. They wish to understand what people were saying, who was talking, and finally what were the messages that persisted. \n",
    "The data provided is divided in days, and then subdivided in hours (there is a dataset for each hour). These sets are json files that consist of tabular data. \n",
    "\n",
    "Using the first data set of 21st June, from 00:34 to 01:34, I hope to answer to the question “Who was talking?”, and understand who were the most influential accounts during that hour. For that, I will focus my analysis on the “Retweets” that happened in that timeframe."
   ]
  },
  {
   "cell_type": "markdown",
   "metadata": {},
   "source": [
    " "
   ]
  },
  {
   "cell_type": "markdown",
   "metadata": {},
   "source": [
    " - First I need to import the appropriate the data file"
   ]
  },
  {
   "cell_type": "code",
   "execution_count": 1,
   "metadata": {
    "collapsed": true
   },
   "outputs": [],
   "source": [
    "import pandas as pd\n",
    "data = pd.read_json('2016-06-21:00:34:01.json' , lines= True)"
   ]
  },
  {
   "cell_type": "markdown",
   "metadata": {},
   "source": [
    " "
   ]
  },
  {
   "cell_type": "markdown",
   "metadata": {},
   "source": [
    " - Now I need will display the data head, so I can better undertand the type of content I am working with, in a legible manner."
   ]
  },
  {
   "cell_type": "code",
   "execution_count": 2,
   "metadata": {},
   "outputs": [
    {
     "data": {
      "text/html": [
       "<div>\n",
       "<style>\n",
       "    .dataframe thead tr:only-child th {\n",
       "        text-align: right;\n",
       "    }\n",
       "\n",
       "    .dataframe thead th {\n",
       "        text-align: left;\n",
       "    }\n",
       "\n",
       "    .dataframe tbody tr th {\n",
       "        vertical-align: top;\n",
       "    }\n",
       "</style>\n",
       "<table border=\"1\" class=\"dataframe\">\n",
       "  <thead>\n",
       "    <tr style=\"text-align: right;\">\n",
       "      <th></th>\n",
       "      <th>contributors</th>\n",
       "      <th>coordinates</th>\n",
       "      <th>created_at</th>\n",
       "      <th>entities</th>\n",
       "      <th>extended_entities</th>\n",
       "      <th>favorite_count</th>\n",
       "      <th>favorited</th>\n",
       "      <th>filter_level</th>\n",
       "      <th>geo</th>\n",
       "      <th>id</th>\n",
       "      <th>...</th>\n",
       "      <th>quoted_status_id</th>\n",
       "      <th>quoted_status_id_str</th>\n",
       "      <th>retweet_count</th>\n",
       "      <th>retweeted</th>\n",
       "      <th>retweeted_status</th>\n",
       "      <th>source</th>\n",
       "      <th>text</th>\n",
       "      <th>timestamp_ms</th>\n",
       "      <th>truncated</th>\n",
       "      <th>user</th>\n",
       "    </tr>\n",
       "  </thead>\n",
       "  <tbody>\n",
       "    <tr>\n",
       "      <th>0</th>\n",
       "      <td>NaN</td>\n",
       "      <td>None</td>\n",
       "      <td>2016-06-20 23:34:03</td>\n",
       "      <td>{'symbols': [], 'urls': [{'expanded_url': 'htt...</td>\n",
       "      <td>NaN</td>\n",
       "      <td>0</td>\n",
       "      <td>False</td>\n",
       "      <td>low</td>\n",
       "      <td>None</td>\n",
       "      <td>745037025682817024</td>\n",
       "      <td>...</td>\n",
       "      <td>7.450342e+17</td>\n",
       "      <td>7.450342e+17</td>\n",
       "      <td>0</td>\n",
       "      <td>False</td>\n",
       "      <td>{'filter_level': 'low', 'retweeted': False, 'i...</td>\n",
       "      <td>&lt;a href=\"http://twitter.com\" rel=\"nofollow\"&gt;Tw...</td>\n",
       "      <td>RT @madamvanessa: Every picture tells a story ...</td>\n",
       "      <td>2016-06-20 23:34:03.698</td>\n",
       "      <td>False</td>\n",
       "      <td>{'location': ' UK', 'default_profile': False, ...</td>\n",
       "    </tr>\n",
       "    <tr>\n",
       "      <th>1</th>\n",
       "      <td>NaN</td>\n",
       "      <td>None</td>\n",
       "      <td>2016-06-20 23:34:03</td>\n",
       "      <td>{'symbols': [], 'urls': [], 'hashtags': [{'tex...</td>\n",
       "      <td>NaN</td>\n",
       "      <td>0</td>\n",
       "      <td>False</td>\n",
       "      <td>low</td>\n",
       "      <td>None</td>\n",
       "      <td>745037026597150721</td>\n",
       "      <td>...</td>\n",
       "      <td>NaN</td>\n",
       "      <td>NaN</td>\n",
       "      <td>0</td>\n",
       "      <td>False</td>\n",
       "      <td>{'filter_level': 'low', 'contributors': None, ...</td>\n",
       "      <td>&lt;a href=\"http://twitter.com/download/iphone\" r...</td>\n",
       "      <td>RT @e_nation: Poll: How will you vote in the E...</td>\n",
       "      <td>2016-06-20 23:34:03.916</td>\n",
       "      <td>False</td>\n",
       "      <td>{'location': 'Nowhere', 'default_profile': Fal...</td>\n",
       "    </tr>\n",
       "    <tr>\n",
       "      <th>2</th>\n",
       "      <td>NaN</td>\n",
       "      <td>None</td>\n",
       "      <td>2016-06-20 23:34:03</td>\n",
       "      <td>{'symbols': [], 'urls': [{'expanded_url': 'htt...</td>\n",
       "      <td>{'media': [{'sizes': {'thumb': {'w': 150, 'res...</td>\n",
       "      <td>0</td>\n",
       "      <td>False</td>\n",
       "      <td>low</td>\n",
       "      <td>None</td>\n",
       "      <td>745037025682821120</td>\n",
       "      <td>...</td>\n",
       "      <td>NaN</td>\n",
       "      <td>NaN</td>\n",
       "      <td>0</td>\n",
       "      <td>False</td>\n",
       "      <td>NaN</td>\n",
       "      <td>&lt;a href=\"http://twitter.com/download/iphone\" r...</td>\n",
       "      <td>NEW #ALIEN SKIN\\nhttps://t.co/1GYlRMUrLu\\n#aga...</td>\n",
       "      <td>2016-06-20 23:34:03.698</td>\n",
       "      <td>False</td>\n",
       "      <td>{'location': None, 'default_profile': True, 'p...</td>\n",
       "    </tr>\n",
       "    <tr>\n",
       "      <th>3</th>\n",
       "      <td>NaN</td>\n",
       "      <td>None</td>\n",
       "      <td>2016-06-20 23:34:04</td>\n",
       "      <td>{'symbols': [], 'urls': [{'expanded_url': 'htt...</td>\n",
       "      <td>{'media': [{'sizes': {'small': {'w': 680, 'res...</td>\n",
       "      <td>0</td>\n",
       "      <td>False</td>\n",
       "      <td>low</td>\n",
       "      <td>None</td>\n",
       "      <td>745037028677586944</td>\n",
       "      <td>...</td>\n",
       "      <td>NaN</td>\n",
       "      <td>NaN</td>\n",
       "      <td>0</td>\n",
       "      <td>False</td>\n",
       "      <td>{'filter_level': 'low', 'retweeted': False, 'i...</td>\n",
       "      <td>&lt;a href=\"http://twitter.com/download/iphone\" r...</td>\n",
       "      <td>RT @NCPoliticsEU: #EUref probabilities (%):\\n\\...</td>\n",
       "      <td>2016-06-20 23:34:04.412</td>\n",
       "      <td>False</td>\n",
       "      <td>{'location': None, 'default_profile': True, 'p...</td>\n",
       "    </tr>\n",
       "    <tr>\n",
       "      <th>4</th>\n",
       "      <td>NaN</td>\n",
       "      <td>None</td>\n",
       "      <td>2016-06-20 23:34:04</td>\n",
       "      <td>{'symbols': [], 'urls': [{'expanded_url': 'htt...</td>\n",
       "      <td>NaN</td>\n",
       "      <td>0</td>\n",
       "      <td>False</td>\n",
       "      <td>low</td>\n",
       "      <td>None</td>\n",
       "      <td>745037029075988480</td>\n",
       "      <td>...</td>\n",
       "      <td>NaN</td>\n",
       "      <td>NaN</td>\n",
       "      <td>0</td>\n",
       "      <td>False</td>\n",
       "      <td>{'filter_level': 'low', 'retweeted': False, 'i...</td>\n",
       "      <td>&lt;a href=\"http://twitter.com\" rel=\"nofollow\"&gt;Tw...</td>\n",
       "      <td>RT @marcwebber: All English Premier League clu...</td>\n",
       "      <td>2016-06-20 23:34:04.507</td>\n",
       "      <td>False</td>\n",
       "      <td>{'location': None, 'default_profile': True, 'p...</td>\n",
       "    </tr>\n",
       "  </tbody>\n",
       "</table>\n",
       "<p>5 rows × 31 columns</p>\n",
       "</div>"
      ],
      "text/plain": [
       "   contributors coordinates          created_at  \\\n",
       "0           NaN        None 2016-06-20 23:34:03   \n",
       "1           NaN        None 2016-06-20 23:34:03   \n",
       "2           NaN        None 2016-06-20 23:34:03   \n",
       "3           NaN        None 2016-06-20 23:34:04   \n",
       "4           NaN        None 2016-06-20 23:34:04   \n",
       "\n",
       "                                            entities  \\\n",
       "0  {'symbols': [], 'urls': [{'expanded_url': 'htt...   \n",
       "1  {'symbols': [], 'urls': [], 'hashtags': [{'tex...   \n",
       "2  {'symbols': [], 'urls': [{'expanded_url': 'htt...   \n",
       "3  {'symbols': [], 'urls': [{'expanded_url': 'htt...   \n",
       "4  {'symbols': [], 'urls': [{'expanded_url': 'htt...   \n",
       "\n",
       "                                   extended_entities  favorite_count  \\\n",
       "0                                                NaN               0   \n",
       "1                                                NaN               0   \n",
       "2  {'media': [{'sizes': {'thumb': {'w': 150, 'res...               0   \n",
       "3  {'media': [{'sizes': {'small': {'w': 680, 'res...               0   \n",
       "4                                                NaN               0   \n",
       "\n",
       "   favorited filter_level   geo                  id  \\\n",
       "0      False          low  None  745037025682817024   \n",
       "1      False          low  None  745037026597150721   \n",
       "2      False          low  None  745037025682821120   \n",
       "3      False          low  None  745037028677586944   \n",
       "4      False          low  None  745037029075988480   \n",
       "\n",
       "                         ...                          quoted_status_id  \\\n",
       "0                        ...                              7.450342e+17   \n",
       "1                        ...                                       NaN   \n",
       "2                        ...                                       NaN   \n",
       "3                        ...                                       NaN   \n",
       "4                        ...                                       NaN   \n",
       "\n",
       "  quoted_status_id_str  retweet_count  retweeted  \\\n",
       "0         7.450342e+17              0      False   \n",
       "1                  NaN              0      False   \n",
       "2                  NaN              0      False   \n",
       "3                  NaN              0      False   \n",
       "4                  NaN              0      False   \n",
       "\n",
       "                                    retweeted_status  \\\n",
       "0  {'filter_level': 'low', 'retweeted': False, 'i...   \n",
       "1  {'filter_level': 'low', 'contributors': None, ...   \n",
       "2                                                NaN   \n",
       "3  {'filter_level': 'low', 'retweeted': False, 'i...   \n",
       "4  {'filter_level': 'low', 'retweeted': False, 'i...   \n",
       "\n",
       "                                              source  \\\n",
       "0  <a href=\"http://twitter.com\" rel=\"nofollow\">Tw...   \n",
       "1  <a href=\"http://twitter.com/download/iphone\" r...   \n",
       "2  <a href=\"http://twitter.com/download/iphone\" r...   \n",
       "3  <a href=\"http://twitter.com/download/iphone\" r...   \n",
       "4  <a href=\"http://twitter.com\" rel=\"nofollow\">Tw...   \n",
       "\n",
       "                                                text            timestamp_ms  \\\n",
       "0  RT @madamvanessa: Every picture tells a story ... 2016-06-20 23:34:03.698   \n",
       "1  RT @e_nation: Poll: How will you vote in the E... 2016-06-20 23:34:03.916   \n",
       "2  NEW #ALIEN SKIN\\nhttps://t.co/1GYlRMUrLu\\n#aga... 2016-06-20 23:34:03.698   \n",
       "3  RT @NCPoliticsEU: #EUref probabilities (%):\\n\\... 2016-06-20 23:34:04.412   \n",
       "4  RT @marcwebber: All English Premier League clu... 2016-06-20 23:34:04.507   \n",
       "\n",
       "  truncated                                               user  \n",
       "0     False  {'location': ' UK', 'default_profile': False, ...  \n",
       "1     False  {'location': 'Nowhere', 'default_profile': Fal...  \n",
       "2     False  {'location': None, 'default_profile': True, 'p...  \n",
       "3     False  {'location': None, 'default_profile': True, 'p...  \n",
       "4     False  {'location': None, 'default_profile': True, 'p...  \n",
       "\n",
       "[5 rows x 31 columns]"
      ]
     },
     "execution_count": 2,
     "metadata": {},
     "output_type": "execute_result"
    }
   ],
   "source": [
    "data.head()"
   ]
  },
  {
   "cell_type": "markdown",
   "metadata": {},
   "source": [
    "  "
   ]
  },
  {
   "cell_type": "markdown",
   "metadata": {},
   "source": [
    " - I order to get a brief overview of the numerical data, I will now run describe"
   ]
  },
  {
   "cell_type": "code",
   "execution_count": 3,
   "metadata": {},
   "outputs": [
    {
     "data": {
      "text/html": [
       "<div>\n",
       "<style>\n",
       "    .dataframe thead tr:only-child th {\n",
       "        text-align: right;\n",
       "    }\n",
       "\n",
       "    .dataframe thead th {\n",
       "        text-align: left;\n",
       "    }\n",
       "\n",
       "    .dataframe tbody tr th {\n",
       "        vertical-align: top;\n",
       "    }\n",
       "</style>\n",
       "<table border=\"1\" class=\"dataframe\">\n",
       "  <thead>\n",
       "    <tr style=\"text-align: right;\">\n",
       "      <th></th>\n",
       "      <th>contributors</th>\n",
       "      <th>favorite_count</th>\n",
       "      <th>id</th>\n",
       "      <th>id_str</th>\n",
       "      <th>in_reply_to_status_id</th>\n",
       "      <th>in_reply_to_status_id_str</th>\n",
       "      <th>in_reply_to_user_id</th>\n",
       "      <th>in_reply_to_user_id_str</th>\n",
       "      <th>possibly_sensitive</th>\n",
       "      <th>quoted_status_id</th>\n",
       "      <th>quoted_status_id_str</th>\n",
       "      <th>retweet_count</th>\n",
       "    </tr>\n",
       "  </thead>\n",
       "  <tbody>\n",
       "    <tr>\n",
       "      <th>count</th>\n",
       "      <td>0.0</td>\n",
       "      <td>8860.0</td>\n",
       "      <td>8.860000e+03</td>\n",
       "      <td>8.860000e+03</td>\n",
       "      <td>3.810000e+02</td>\n",
       "      <td>3.810000e+02</td>\n",
       "      <td>5.220000e+02</td>\n",
       "      <td>5.220000e+02</td>\n",
       "      <td>6795.000000</td>\n",
       "      <td>1.461000e+03</td>\n",
       "      <td>1.461000e+03</td>\n",
       "      <td>8860.0</td>\n",
       "    </tr>\n",
       "    <tr>\n",
       "      <th>mean</th>\n",
       "      <td>NaN</td>\n",
       "      <td>0.0</td>\n",
       "      <td>7.450436e+17</td>\n",
       "      <td>7.450436e+17</td>\n",
       "      <td>7.447795e+17</td>\n",
       "      <td>7.447795e+17</td>\n",
       "      <td>3.474855e+16</td>\n",
       "      <td>3.474855e+16</td>\n",
       "      <td>0.012804</td>\n",
       "      <td>7.301903e+17</td>\n",
       "      <td>7.301903e+17</td>\n",
       "      <td>0.0</td>\n",
       "    </tr>\n",
       "    <tr>\n",
       "      <th>std</th>\n",
       "      <td>NaN</td>\n",
       "      <td>0.0</td>\n",
       "      <td>4.270535e+12</td>\n",
       "      <td>4.270535e+12</td>\n",
       "      <td>1.677926e+15</td>\n",
       "      <td>1.677926e+15</td>\n",
       "      <td>1.551159e+17</td>\n",
       "      <td>1.551159e+17</td>\n",
       "      <td>0.112434</td>\n",
       "      <td>7.072971e+16</td>\n",
       "      <td>7.072971e+16</td>\n",
       "      <td>0.0</td>\n",
       "    </tr>\n",
       "    <tr>\n",
       "      <th>min</th>\n",
       "      <td>NaN</td>\n",
       "      <td>0.0</td>\n",
       "      <td>7.450370e+17</td>\n",
       "      <td>7.450370e+17</td>\n",
       "      <td>7.220984e+17</td>\n",
       "      <td>7.220984e+17</td>\n",
       "      <td>2.558300e+04</td>\n",
       "      <td>2.558300e+04</td>\n",
       "      <td>0.000000</td>\n",
       "      <td>2.792383e+10</td>\n",
       "      <td>2.792383e+10</td>\n",
       "      <td>0.0</td>\n",
       "    </tr>\n",
       "    <tr>\n",
       "      <th>25%</th>\n",
       "      <td>NaN</td>\n",
       "      <td>0.0</td>\n",
       "      <td>7.450399e+17</td>\n",
       "      <td>7.450399e+17</td>\n",
       "      <td>7.449717e+17</td>\n",
       "      <td>7.449717e+17</td>\n",
       "      <td>5.927600e+07</td>\n",
       "      <td>5.927600e+07</td>\n",
       "      <td>0.000000</td>\n",
       "      <td>7.448545e+17</td>\n",
       "      <td>7.448545e+17</td>\n",
       "      <td>0.0</td>\n",
       "    </tr>\n",
       "    <tr>\n",
       "      <th>50%</th>\n",
       "      <td>NaN</td>\n",
       "      <td>0.0</td>\n",
       "      <td>7.450432e+17</td>\n",
       "      <td>7.450432e+17</td>\n",
       "      <td>7.450294e+17</td>\n",
       "      <td>7.450294e+17</td>\n",
       "      <td>3.129489e+08</td>\n",
       "      <td>3.129489e+08</td>\n",
       "      <td>0.000000</td>\n",
       "      <td>7.449741e+17</td>\n",
       "      <td>7.449741e+17</td>\n",
       "      <td>0.0</td>\n",
       "    </tr>\n",
       "    <tr>\n",
       "      <th>75%</th>\n",
       "      <td>NaN</td>\n",
       "      <td>0.0</td>\n",
       "      <td>7.450470e+17</td>\n",
       "      <td>7.450470e+17</td>\n",
       "      <td>7.450403e+17</td>\n",
       "      <td>7.450403e+17</td>\n",
       "      <td>1.959455e+09</td>\n",
       "      <td>1.959455e+09</td>\n",
       "      <td>0.000000</td>\n",
       "      <td>7.450252e+17</td>\n",
       "      <td>7.450252e+17</td>\n",
       "      <td>0.0</td>\n",
       "    </tr>\n",
       "    <tr>\n",
       "      <th>max</th>\n",
       "      <td>NaN</td>\n",
       "      <td>0.0</td>\n",
       "      <td>7.450521e+17</td>\n",
       "      <td>7.450521e+17</td>\n",
       "      <td>7.450518e+17</td>\n",
       "      <td>7.450518e+17</td>\n",
       "      <td>7.432684e+17</td>\n",
       "      <td>7.432684e+17</td>\n",
       "      <td>1.000000</td>\n",
       "      <td>7.450519e+17</td>\n",
       "      <td>7.450519e+17</td>\n",
       "      <td>0.0</td>\n",
       "    </tr>\n",
       "  </tbody>\n",
       "</table>\n",
       "</div>"
      ],
      "text/plain": [
       "       contributors  favorite_count            id        id_str  \\\n",
       "count           0.0          8860.0  8.860000e+03  8.860000e+03   \n",
       "mean            NaN             0.0  7.450436e+17  7.450436e+17   \n",
       "std             NaN             0.0  4.270535e+12  4.270535e+12   \n",
       "min             NaN             0.0  7.450370e+17  7.450370e+17   \n",
       "25%             NaN             0.0  7.450399e+17  7.450399e+17   \n",
       "50%             NaN             0.0  7.450432e+17  7.450432e+17   \n",
       "75%             NaN             0.0  7.450470e+17  7.450470e+17   \n",
       "max             NaN             0.0  7.450521e+17  7.450521e+17   \n",
       "\n",
       "       in_reply_to_status_id  in_reply_to_status_id_str  in_reply_to_user_id  \\\n",
       "count           3.810000e+02               3.810000e+02         5.220000e+02   \n",
       "mean            7.447795e+17               7.447795e+17         3.474855e+16   \n",
       "std             1.677926e+15               1.677926e+15         1.551159e+17   \n",
       "min             7.220984e+17               7.220984e+17         2.558300e+04   \n",
       "25%             7.449717e+17               7.449717e+17         5.927600e+07   \n",
       "50%             7.450294e+17               7.450294e+17         3.129489e+08   \n",
       "75%             7.450403e+17               7.450403e+17         1.959455e+09   \n",
       "max             7.450518e+17               7.450518e+17         7.432684e+17   \n",
       "\n",
       "       in_reply_to_user_id_str  possibly_sensitive  quoted_status_id  \\\n",
       "count             5.220000e+02         6795.000000      1.461000e+03   \n",
       "mean              3.474855e+16            0.012804      7.301903e+17   \n",
       "std               1.551159e+17            0.112434      7.072971e+16   \n",
       "min               2.558300e+04            0.000000      2.792383e+10   \n",
       "25%               5.927600e+07            0.000000      7.448545e+17   \n",
       "50%               3.129489e+08            0.000000      7.449741e+17   \n",
       "75%               1.959455e+09            0.000000      7.450252e+17   \n",
       "max               7.432684e+17            1.000000      7.450519e+17   \n",
       "\n",
       "       quoted_status_id_str  retweet_count  \n",
       "count          1.461000e+03         8860.0  \n",
       "mean           7.301903e+17            0.0  \n",
       "std            7.072971e+16            0.0  \n",
       "min            2.792383e+10            0.0  \n",
       "25%            7.448545e+17            0.0  \n",
       "50%            7.449741e+17            0.0  \n",
       "75%            7.450252e+17            0.0  \n",
       "max            7.450519e+17            0.0  "
      ]
     },
     "execution_count": 3,
     "metadata": {},
     "output_type": "execute_result"
    }
   ],
   "source": [
    "data.describe()"
   ]
  },
  {
   "cell_type": "markdown",
   "metadata": {},
   "source": [
    " "
   ]
  },
  {
   "cell_type": "markdown",
   "metadata": {},
   "source": [
    " - Now I want to know how many rows I have, as at the moment I only know the number of columns"
   ]
  },
  {
   "cell_type": "code",
   "execution_count": 4,
   "metadata": {},
   "outputs": [
    {
     "data": {
      "text/plain": [
       "(8860, 31)"
      ]
     },
     "execution_count": 4,
     "metadata": {},
     "output_type": "execute_result"
    }
   ],
   "source": [
    "data.shape"
   ]
  },
  {
   "cell_type": "markdown",
   "metadata": {},
   "source": [
    " "
   ]
  },
  {
   "cell_type": "markdown",
   "metadata": {},
   "source": [
    " - I already know the amount of rows, but I don't know what all the columns consist of, so I will print all the columns."
   ]
  },
  {
   "cell_type": "code",
   "execution_count": 5,
   "metadata": {},
   "outputs": [
    {
     "data": {
      "text/plain": [
       "Index(['contributors', 'coordinates', 'created_at', 'entities',\n",
       "       'extended_entities', 'favorite_count', 'favorited', 'filter_level',\n",
       "       'geo', 'id', 'id_str', 'in_reply_to_screen_name',\n",
       "       'in_reply_to_status_id', 'in_reply_to_status_id_str',\n",
       "       'in_reply_to_user_id', 'in_reply_to_user_id_str', 'is_quote_status',\n",
       "       'lang', 'place', 'possibly_sensitive', 'quoted_status',\n",
       "       'quoted_status_id', 'quoted_status_id_str', 'retweet_count',\n",
       "       'retweeted', 'retweeted_status', 'source', 'text', 'timestamp_ms',\n",
       "       'truncated', 'user'],\n",
       "      dtype='object')"
      ]
     },
     "execution_count": 5,
     "metadata": {},
     "output_type": "execute_result"
    }
   ],
   "source": [
    "data.columns"
   ]
  },
  {
   "cell_type": "markdown",
   "metadata": {},
   "source": [
    " "
   ]
  },
  {
   "cell_type": "markdown",
   "metadata": {},
   "source": [
    " - At this stage I can see that there is a lot of content per row in some columns, so I need I need to understand what I kind of data is there. For that, I will go through each of those specific columns. As  want to see it in a legible manner, I will have to choose one specific user, and will also use \"keys( )\" to only have the index showing."
   ]
  },
  {
   "cell_type": "code",
   "execution_count": 6,
   "metadata": {},
   "outputs": [
    {
     "data": {
      "text/plain": [
       "dict_keys(['location', 'default_profile', 'profile_background_tile', 'statuses_count', 'lang', 'profile_link_color', 'profile_banner_url', 'id', 'following', 'protected', 'favourites_count', 'profile_text_color', 'verified', 'description', 'contributors_enabled', 'profile_sidebar_border_color', 'name', 'profile_background_color', 'created_at', 'default_profile_image', 'followers_count', 'profile_image_url_https', 'geo_enabled', 'profile_background_image_url', 'profile_background_image_url_https', 'follow_request_sent', 'url', 'utc_offset', 'time_zone', 'notifications', 'profile_use_background_image', 'friends_count', 'profile_sidebar_fill_color', 'screen_name', 'id_str', 'profile_image_url', 'listed_count', 'is_translator'])"
      ]
     },
     "execution_count": 6,
     "metadata": {},
     "output_type": "execute_result"
    }
   ],
   "source": [
    "data['user'][0].keys()"
   ]
  },
  {
   "cell_type": "code",
   "execution_count": 7,
   "metadata": {},
   "outputs": [
    {
     "data": {
      "text/plain": [
       "dict_keys(['filter_level', 'retweeted', 'in_reply_to_screen_name', 'possibly_sensitive', 'truncated', 'lang', 'in_reply_to_status_id_str', 'id', 'in_reply_to_user_id_str', 'in_reply_to_status_id', 'created_at', 'favorite_count', 'place', 'coordinates', 'text', 'contributors', 'geo', 'quoted_status_id_str', 'entities', 'quoted_status_id', 'is_quote_status', 'source', 'quoted_status', 'favorited', 'in_reply_to_user_id', 'retweet_count', 'id_str', 'user'])"
      ]
     },
     "execution_count": 7,
     "metadata": {},
     "output_type": "execute_result"
    }
   ],
   "source": [
    "data['retweeted_status'][0].keys()"
   ]
  },
  {
   "cell_type": "code",
   "execution_count": 8,
   "metadata": {},
   "outputs": [
    {
     "data": {
      "text/plain": [
       "dict_keys(['symbols', 'urls', 'hashtags', 'user_mentions'])"
      ]
     },
     "execution_count": 8,
     "metadata": {},
     "output_type": "execute_result"
    }
   ],
   "source": [
    "data['entities'][0].keys()"
   ]
  },
  {
   "cell_type": "code",
   "execution_count": 9,
   "metadata": {},
   "outputs": [
    {
     "data": {
      "text/plain": [
       "dict_keys(['media'])"
      ]
     },
     "execution_count": 9,
     "metadata": {},
     "output_type": "execute_result"
    }
   ],
   "source": [
    "data['extended_entities'][3].keys()"
   ]
  },
  {
   "cell_type": "markdown",
   "metadata": {},
   "source": [
    " "
   ]
  },
  {
   "cell_type": "markdown",
   "metadata": {},
   "source": [
    " - In order to get a general idea of the size tweets in the data, I will look at the distribuiton of the characters for each tweet. "
   ]
  },
  {
   "cell_type": "code",
   "execution_count": 10,
   "metadata": {},
   "outputs": [
    {
     "data": {
      "image/png": "[encoded data removed]",
      "text/plain": [
       "<matplotlib.figure.Figure at 0x13522f630>"
      ]
     },
     "metadata": {},
     "output_type": "display_data"
    }
   ],
   "source": [
    "%matplotlib inline \n",
    "import numpy as np\n",
    "from matplotlib import pyplot as plt\n",
    "import seaborn as sns\n",
    "sns.distplot(data['text'].str.len()) \n",
    "plt.show()"
   ]
  },
  {
   "cell_type": "markdown",
   "metadata": {},
   "source": [
    "This result demonstrates that the large majority of tweets are 130-140 characters."
   ]
  },
  {
   "cell_type": "markdown",
   "metadata": {},
   "source": [
    " "
   ]
  },
  {
   "cell_type": "markdown",
   "metadata": {},
   "source": [
    " "
   ]
  },
  {
   "cell_type": "markdown",
   "metadata": {},
   "source": [
    " - Now I want to see the length of characters in relation to the number of followers. Before I can plot it, I need to append to the number of followers, thus making it a column. "
   ]
  },
  {
   "cell_type": "code",
   "execution_count": 11,
   "metadata": {},
   "outputs": [
    {
     "data": {
      "image/png": "[encoded data removed]",
      "text/plain": [
       "<matplotlib.figure.Figure at 0x12ff172e8>"
      ]
     },
     "metadata": {},
     "output_type": "display_data"
    }
   ],
   "source": [
    "#Put the followers as a column\n",
    "followers = []\n",
    "for user in data['user']:\n",
    "    followers.append(user['followers_count']) #add each follower into an array\n",
    "data['followers'] = followers #add the array to the dataframe\n",
    "data['lengths'] = data['text'].str.len() #add tweet length to the dataframe\n",
    "\n",
    "#now I can plot it\n",
    "ax = sns.lmplot(x='lengths',y='followers',data=data)"
   ]
  },
  {
   "cell_type": "markdown",
   "metadata": {},
   "source": [
    "Although the result is not clear, I can still indentify that tweets with more characters seem to belong to accounts with more followers. "
   ]
  },
  {
   "cell_type": "markdown",
   "metadata": {},
   "source": [
    " "
   ]
  },
  {
   "cell_type": "markdown",
   "metadata": {},
   "source": [
    " - With a better understanding of the data I have available, I can now start filtering (and defining) the data that was retweeted."
   ]
  },
  {
   "cell_type": "code",
   "execution_count": 12,
   "metadata": {
    "collapsed": true
   },
   "outputs": [],
   "source": [
    "data_1 = data[pd.notnull(data['retweeted_status'])] #I want to remove all the NaN values in retweeded_status"
   ]
  },
  {
   "cell_type": "markdown",
   "metadata": {},
   "source": [
    " - Now I want to see how many retweets I have filtered. In other words, the amount of retweets in this hour:"
   ]
  },
  {
   "cell_type": "code",
   "execution_count": 13,
   "metadata": {},
   "outputs": [
    {
     "data": {
      "text/plain": [
       "5847"
      ]
     },
     "execution_count": 13,
     "metadata": {},
     "output_type": "execute_result"
    }
   ],
   "source": [
    "data_1['retweeted_status'].count()"
   ]
  },
  {
   "cell_type": "markdown",
   "metadata": {},
   "source": [
    " "
   ]
  },
  {
   "cell_type": "markdown",
   "metadata": {},
   "source": [
    " - With the retweeted data defined, I can start exploring it, and create visualisations of different relations. As the majority of the data I need is located inside the dictionaries in certain columns, I will need to define where the data is, before I start plotting."
   ]
  },
  {
   "cell_type": "code",
   "execution_count": 14,
   "metadata": {
    "collapsed": true
   },
   "outputs": [],
   "source": [
    "#define the five dictionairies I need to analyse and plot the data\n",
    "user_dict = {}\n",
    "follower_dict = {}\n",
    "account_creation_dict = {}\n",
    "location_dict = {}\n",
    "hashtag_dict = {}\n",
    "#if statement, to count of often a user is retweeted in the user_dict\n",
    "for retweeted in data_1['retweeted_status']:\n",
    "    if retweeted['user']['name'] in user_dict.keys():\n",
    "        user_dict[retweeted['user']['name']] += 1\n",
    "    else:\n",
    "        user_dict[retweeted['user']['name']] = 1 #also get the user's follower_count, created date, location, and used hasgtags\n",
    "        follower_dict[retweeted['user']['name']] = retweeted['user']['followers_count']\n",
    "        account_creation_dict[retweeted['user']['name']] = retweeted['user']['created_at']\n",
    "        location_dict[retweeted['user']['name']] = retweeted['user']['location']\n",
    "        hashtag_dict[retweeted['user']['name']] = retweeted['entities']['hashtags']\n",
    "\n",
    "\n",
    "retweet_data = pd.Series(user_dict) #make the data into a series"
   ]
  },
  {
   "cell_type": "markdown",
   "metadata": {},
   "source": [
    " "
   ]
  },
  {
   "cell_type": "markdown",
   "metadata": {},
   "source": [
    " - I want to know who were the 10 most retweeted users:"
   ]
  },
  {
   "cell_type": "code",
   "execution_count": 15,
   "metadata": {},
   "outputs": [
    {
     "data": {
      "image/png": "[encoded data removed]",
      "text/plain": [
       "<matplotlib.figure.Figure at 0x135db1128>"
      ]
     },
     "metadata": {},
     "output_type": "display_data"
    }
   ],
   "source": [
    "most_retweeted_users = retweet_data.sort_values(ascending=False)[:10] #get the top 10 most retweeted users\n",
    "ax = sns.barplot(x=most_retweeted_users.index,y=most_retweeted_users) #plot the most retweeted users and how often they are retweeted\n",
    "for tick in ax.get_xticklabels(): #set the label in axis x to 90º in order o to make it legible\n",
    "    tick.set_rotation(90)"
   ]
  },
  {
   "cell_type": "markdown",
   "metadata": {},
   "source": [
    "In this bar chart I can see that at least 5 accounts support Brexit, due to their generic Brexit related name. It seems that were created solely for campaign purposes. \n",
    "\n",
    "I want to find out when all of these accounts were created, and confirm whether or not they set up with the objective to influence users. "
   ]
  },
  {
   "cell_type": "code",
   "execution_count": 16,
   "metadata": {},
   "outputs": [
    {
     "name": "stdout",
     "output_type": "stream",
     "text": [
      "Fri Sep 18 10:47:15 +0000 2015\n",
      "Mon Jul 06 08:21:07 +0000 2015\n",
      "Sun Apr 05 01:21:42 +0000 2015\n",
      "Sun Jul 03 13:21:51 +0000 2011\n",
      "Sat May 12 13:04:50 +0000 2007\n",
      "Tue Feb 21 11:34:20 +0000 2012\n",
      "Thu Apr 23 20:05:17 +0000 2009\n",
      "Sun Sep 04 12:25:52 +0000 2011\n",
      "Fri Apr 15 18:44:45 +0000 2016\n",
      "Thu Sep 24 15:12:01 +0000 2015\n"
     ]
    },
    {
     "data": {
      "image/png": "[encoded data removed]",
      "text/plain": [
       "<matplotlib.figure.Figure at 0x1355e6550>"
      ]
     },
     "metadata": {},
     "output_type": "display_data"
    }
   ],
   "source": [
    "from datetime import datetime #import datetime for time analysis\n",
    "most_retweeted_user = pd.DataFrame() #make new dataframe containing user and creation date \n",
    "users = []\n",
    "date = []\n",
    "for user in most_retweeted_users.index:\n",
    "    users.append(user)\n",
    "    date.append(datetime.strptime(account_creation_dict[user],\"%a %b %d %H:%M:%S +0000 %Y\").timestamp()) #formatting the time count in seconds\n",
    "    print (account_creation_dict[user])\n",
    "most_retweeted_user['User'] = users #define most retweeted\n",
    "most_retweeted_user['Date'] = date #define the date of creation\n",
    "ax = sns.barplot(x=most_retweeted_user['Date'],y=most_retweeted_user['User'])\n",
    "ax.set(xlabel='Account creation date in seconds') #set labelk for creation date - seconds\n",
    "for tick in ax.get_xticklabels():\n",
    "    tick.set_rotation(90)"
   ]
  },
  {
   "cell_type": "markdown",
   "metadata": {},
   "source": [
    "The result confirms the assumptions aforementioned, as a part from \"Carl #LeaveEU\", the accounts with a generic Brexit were all created in the space of less than a year.\n",
    "\n",
    "Although these accounts were relatively recent, they were highly influential in this specific hour, so I want to see their number of followers:"
   ]
  },
  {
   "cell_type": "code",
   "execution_count": 17,
   "metadata": {},
   "outputs": [
    {
     "data": {
      "image/png": "[encoded data removed]",
      "text/plain": [
       "<matplotlib.figure.Figure at 0x1366596a0>"
      ]
     },
     "metadata": {},
     "output_type": "display_data"
    }
   ],
   "source": [
    "most_followed_user = pd.DataFrame()\n",
    "users = []\n",
    "followers = []\n",
    "for user in most_retweeted_users.index: #make new dataframe containing users and number of followers\n",
    "    users.append(user)\n",
    "    followers.append(follower_dict[user])\n",
    "most_followed_user['User'] = users\n",
    "most_followed_user['Followers'] = followers\n",
    "ax = sns.barplot(x=most_followed_user['User'],y=most_followed_user['Followers'])\n",
    "ax.set_yscale(\"log\", nonposy='clip')\n",
    "for tick in ax.get_xticklabels():\n",
    "    tick.set_rotation(90)"
   ]
  },
  {
   "cell_type": "markdown",
   "metadata": {},
   "source": [
    "As we can see from the result above, these Brexit accounts have a large number of followers, which means that they gained popularity pretty quick. Who is behind these accounts that directly influence so many people? Where are these users located?"
   ]
  },
  {
   "cell_type": "code",
   "execution_count": 18,
   "metadata": {},
   "outputs": [
    {
     "name": "stdout",
     "output_type": "stream",
     "text": [
      "               User                 Location\n",
      "0        Vote Leave           United Kingdom\n",
      "1          LEAVE.EU                     None\n",
      "2    TheOrdinaryMan            GREAT Britain\n",
      "3     Carl #LeaveEU           GREAT BRITAIN \n",
      "4     The Economist                   London\n",
      "5              Russ                 Cheshire\n",
      "6         Bloomberg   New York and the World\n",
      "7    Thierry Baudet   Amsterdam, Netherlands\n",
      "8        Brexit Now         Brexit the movie\n",
      "9  Vote Leave Media  England, United Kingdom\n"
     ]
    }
   ],
   "source": [
    "most_retweeted_user_locations = pd.DataFrame()\n",
    "users = []\n",
    "locations = []\n",
    "for user in most_retweeted_users.index: #make new dataframe containing users and location\n",
    "    users.append(user)\n",
    "    locations.append(location_dict[user])\n",
    "most_retweeted_user_locations['User'] = users\n",
    "most_retweeted_user_locations['Location'] = locations\n",
    "print(most_retweeted_user_locations) #"
   ]
  },
  {
   "cell_type": "markdown",
   "metadata": {},
   "source": [
    "Due to the non-numeric nature of the data, and its lack of accuracy (the location can be defined by the user), I cannot plot it, or make a map for only ten values. At this stage I cannot consider that this data is reliable enough to build on it.\n",
    "\n",
    "Finally, I want to see the type of hashtags that the top 10 accounts are using when sharing their tweets. As these are varied and non-numerical, I will categorise them under Pro-Brexit, Neutral, Anti_Brexit."
   ]
  },
  {
   "cell_type": "code",
   "execution_count": 19,
   "metadata": {},
   "outputs": [
    {
     "data": {
      "image/png": "[encoded data removed]",
      "text/plain": [
       "<matplotlib.figure.Figure at 0x136f18748>"
      ]
     },
     "metadata": {},
     "output_type": "display_data"
    }
   ],
   "source": [
    "most_retweeted_user_hashtag= pd.DataFrame()\n",
    "users = []\n",
    "hashtag = []\n",
    "for user in most_retweeted_users.index:  #make new dataframe containing users and location\n",
    "    users.append(user)\n",
    "    hashtag.append(hashtag_dict[user])\n",
    "most_retweeted_user_hashtag['User'] = users\n",
    "most_retweeted_user_hashtag['Hashtags Used'] = hashtag\n",
    "\n",
    "#categorise hastags into three categories, so it can become numerical data\n",
    "pro_brexit = 'VoteLeave Dictatorship GO LeaveEU BetterOffOut BeLeave VoteLeave VoteLEAVE' \n",
    "neutral_brexit = 'InOrOut Democracy EU EURef Brexit BREXIT'\n",
    "anti_brexit = 'Remain'\n",
    "to_plot_val = []\n",
    "to_plot_index = []\n",
    "for i,v in most_retweeted_user_hashtag.iterrows():\n",
    "    for hashtag in v['Hashtags Used']:\n",
    "        if(hashtag['text'] in pro_brexit):\n",
    "            to_plot_val.append(v['User'])\n",
    "            to_plot_index.append(1)\n",
    "        if(hashtag['text'] in neutral_brexit):\n",
    "            to_plot_val.append(v['User'])\n",
    "            to_plot_index.append(2)\n",
    "        if(hashtag['text'] in anti_brexit):\n",
    "            to_plot_val.append(v['User'])\n",
    "            to_plot_index.append(3)\n",
    "ax = sns.swarmplot(x=to_plot_val,y=to_plot_index)\n",
    "labels = [item.get_text() for item in ax.get_yticklabels()] #putting labels for each category on the plot\n",
    "labels[1] = 'Pro Brexit'\n",
    "labels[5] = 'Neutral to Brexit'\n",
    "labels[9] = 'Anti Brexit'\n",
    "ax.set_yticklabels(labels)\n",
    "for tick in ax.get_xticklabels():\n",
    "    tick.set_rotation(90)\n",
    "plt.show()"
   ]
  },
  {
   "cell_type": "markdown",
   "metadata": {
    "collapsed": true
   },
   "source": [
    "Using the hashtags makes it easier to understand the political positions of the users that have an ambiguous name. In this graph, I can see that there was only one Anti-Brexit influential user in this data set."
   ]
  },
  {
   "cell_type": "markdown",
   "metadata": {
    "collapsed": true
   },
   "source": [
    "# Conclusion"
   ]
  },
  {
   "cell_type": "markdown",
   "metadata": {
    "collapsed": true
   },
   "source": [
    "In this analysis, I focused on the number of retweets related to Brexit that happened between 00:34 and 01:34 on 21st June. My aim was to understand who were the most influential users during that period of time. \n",
    "As the sample I used was during the night-time, it was most likely smaller than the ones in daytime. Nevertheless, it also made me uncover a few hypotheses. \n",
    "\n",
    " - During that period, the 3 most retweeted users were pro Brexit, and their accounts were recently created (less than a year), which made me consider that they were solely created for campaign purposes, rather than real users or Institutions expressing their opinions. \n",
    " - Knowing that in the top 10 most retweeted users, two were neutral (Bloomberg and the Economist), one was anti-Brexit (Russ), and all the others were pro Brexit (with only two accounts created before 2015), I wonder if the leave campaigners were more active during the night, with the purpose of influencing user feeds in the morning. In order to test that theory, I would need to perform the same analysis for every hour of the night, and then compare the results with the other two nights before the referendum.  \n",
    " - When looking at the results from my analysis, I wonder if the leave campaigners were substantially more active on Twitter, rather than “remain” backers, thus influencing public opinion on a large scale. In order to test this thought, I ran the same analysis on a data set from the following morning (10:34 to 11:34), and observed that the top 2 from the previous night were now 2nd and 3rd, respectively (perhaps they did influence user feeds in the morning?). The Top 1 was Emma Watson, thus demonstrating the impact that celebrities’ political views can have on the general public. Although there were at least two remain voters in the morning top 10, it once again shows that the possibly “leave-created” accounts still had a big impact. It is perhaps important to note that I did not find any possibly “remain-created” accounts in both night and morning top 10s.\n"
   ]
  }
 ],
 "metadata": {
  "kernelspec": {
   "display_name": "Python 3",
   "language": "python",
   "name": "python3"
  },
  "language_info": {
   "codemirror_mode": {
    "name": "ipython",
    "version": 3
   },
   "file_extension": ".py",
   "mimetype": "text/x-python",
   "name": "python",
   "nbconvert_exporter": "python",
   "pygments_lexer": "ipython3",
   "version": "3.6.2"
  }
 },
 "nbformat": 4,
 "nbformat_minor": 2
}
